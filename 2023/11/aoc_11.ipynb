{
 "cells": [
  {
   "cell_type": "markdown",
   "metadata": {},
   "source": [
    "# Advent of Code Day 11"
   ]
  },
  {
   "cell_type": "code",
   "execution_count": null,
   "metadata": {
    "metadata": {}
   },
   "outputs": [],
   "source": [
    "with open('input.txt', 'r') as file:\n",
    "    lines = [line.strip().split() for line in file]"
   ]
  },
  {
   "cell_type": "code",
   "execution_count": null,
   "metadata": {
    "metadata": {}
   },
   "outputs": [],
   "source": [
    "import re\n",
    "\n",
    "# Get lists to be expanded\n",
    "row_index = []\n",
    "for i, line in enumerate(lines):\n",
    "    if len(re.findall(r'#', str(line))) == 0:\n",
    "        row_index.append(i)\n",
    "\n",
    "# Get col index to be expanded\n",
    "col_index = []\n",
    "for i in range(0, len(lines[0][0])):\n",
    "    col = []\n",
    "    for line in lines:\n",
    "        col.append(line[0][i])\n",
    "    if \"#\" not in col:\n",
    "        col_index.append(i)\n",
    "\n",
    "# Apply row expansion\n",
    "xcount = 0\n",
    "for x in row_index:\n",
    "    lines.insert(x + xcount, ['.'*140])\n",
    "    xcount += 1\n",
    "\n",
    "# Flatten list of lists into a list of strings\n",
    "from itertools import chain\n",
    "lines = list(chain.from_iterable(lines))\n",
    "\n",
    "# Expand cols\n",
    "ycount = 0\n",
    "for y in col_index:\n",
    "    for i, row in enumerate(lines):\n",
    "        lines[i] = row[:y+ycount] + '.' + row[y+ycount:]\n",
    "    ycount += 1"
   ]
  },
  {
   "cell_type": "markdown",
   "metadata": {},
   "source": [
    "## Part One"
   ]
  },
  {
   "cell_type": "code",
   "execution_count": null,
   "metadata": {
    "metadata": {}
   },
   "outputs": [],
   "source": [
    "# Coords of all galaxies\n",
    "coords = []\n",
    "for iy, y in enumerate(lines):\n",
    "    indices = [index for index, char in enumerate(y) if char == '#']\n",
    "    for indicy in indices:\n",
    "        coords.append([indicy,iy])\n",
    "\n",
    "from itertools import combinations\n",
    "pairs = list(combinations(coords, 2))"
   ]
  },
  {
   "cell_type": "code",
   "execution_count": null,
   "metadata": {
    "metadata": {}
   },
   "outputs": [],
   "source": [
    "counter = 0\n",
    "for item in pairs:\n",
    "    coord1 = item[0]\n",
    "    coord2 = item[1]\n",
    "    score = abs(coord1[0] - coord2[0]) + abs(coord1[1] - coord2[1]) \n",
    "    counter += score\n",
    "    \n",
    "print(counter)"
   ]
  },
  {
   "cell_type": "markdown",
   "metadata": {},
   "source": [
    "## Part Two"
   ]
  },
  {
   "cell_type": "code",
   "execution_count": null,
   "metadata": {
    "metadata": {}
   },
   "outputs": [],
   "source": [
    "with open('input.txt', 'r') as file:\n",
    "    lines = [line.strip().split() for line in file]\n",
    "lines = list(chain.from_iterable(lines))\n",
    "\n",
    "# Coords of all galaxies\n",
    "coords = []\n",
    "for iy, y in enumerate(lines):\n",
    "    indices = [index for index, char in enumerate(y) if char == '#']\n",
    "    for indicy in indices:\n",
    "        coords.append([indicy,iy])\n",
    "\n",
    "from itertools import combinations\n",
    "pairs = list(combinations(coords, 2))"
   ]
  },
  {
   "cell_type": "code",
   "execution_count": null,
   "metadata": {
    "metadata": {}
   },
   "outputs": [],
   "source": [
    "counter = 0\n",
    "for item in pairs:\n",
    "    coord1 = item[0]\n",
    "    coord2 = item[1]\n",
    "    \n",
    "    xc = tuple(sorted([coord1[0], coord2[0]]))\n",
    "    yc = tuple(sorted([coord1[1], coord2[1]]))\n",
    "    \n",
    "    countx = 0\n",
    "    county = 0\n",
    "    \n",
    "    countx = sum(1000000-1 for num in col_index if xc[0] <= num <= xc[1])\n",
    "    county = sum(1000000-1 for num in row_index if yc[0] <= num <= yc[1])\n",
    "    \n",
    "    score = abs(coord1[0] - coord2[0]) + abs(coord1[1] - coord2[1]) + countx + county\n",
    "    counter += score\n",
    "    \n",
    "print(counter)"
   ]
  }
 ],
 "metadata": {
  "kernelspec": {
   "display_name": "Python 3",
   "language": "python",
   "name": "python3"
  },
  "language_info": {
   "codemirror_mode": {
    "name": "ipython",
    "version": 3
   },
   "file_extension": ".py",
   "mimetype": "text/x-python",
   "name": "python",
   "nbconvert_exporter": "python",
   "pygments_lexer": "ipython3",
   "version": "3.11.9"
  }
 },
 "nbformat": 4,
 "nbformat_minor": 2
}
