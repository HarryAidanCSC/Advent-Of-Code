{
 "cells": [
  {
   "cell_type": "code",
   "execution_count": null,
   "metadata": {},
   "outputs": [],
   "source": [
    "import itertools\n",
    "\n",
    "with open('input.txt', 'r') as file:\n",
    "    lines = [\n",
    "        [tuple(list(map(int, part.split(\",\")))) for part in line.strip().split(\"~\")]\n",
    "        for line in file\n",
    "    ]\n",
    "\n",
    "lines = sorted(lines, key=lambda x: x[0][2])"
   ]
  },
  {
   "cell_type": "code",
   "execution_count": null,
   "metadata": {},
   "outputs": [],
   "source": [
    "maxx = max(part[0] for line in lines for part in line)\n",
    "maxy = max(part[1] for line in lines for part in line)\n",
    "minx = min(part[0] for line in lines for part in line)\n",
    "miny = min(part[1] for line in lines for part in line)\n",
    "\n",
    "grid_squares = list(itertools.product(range(minx,maxx +1), range(miny, maxy + 1)))\n",
    "grid = {grid_square: 0 for grid_square in grid_squares}\n",
    "occupant = {grid_square: None for grid_square in grid_squares}\n",
    "safe = list(range(len(lines)))\n",
    "rest_dict = {item: None for item in list(range(len(lines)))}\n",
    "\n",
    "\n",
    "for i, l in enumerate(lines):\n",
    "    item1, item2 = l\n",
    "\n",
    "\n",
    "    x = list(range(item1[0], item2[0] + 1))\n",
    "    y = list(range(item1[1], item2[1] + 1))\n",
    "    z = item1[2]\n",
    "\n",
    "    coords = list(itertools.product(x, y))\n",
    "\n",
    "    max_val = 0\n",
    "    \n",
    "    # For all x-y find the highest point on the grid\n",
    "    for coord in coords:\n",
    "        check = (coord[0], coord[1])\n",
    "        val = grid[check]\n",
    "        max_val = max(max_val, val)\n",
    "    \n",
    "    resting_ons = set()\n",
    "    \n",
    "    # Find what blocks occupy the supprting sqaures in the grid\n",
    "    for coord in coords:\n",
    "        check = (coord[0], coord[1])\n",
    "        val = grid[check]\n",
    "        if val == max_val:\n",
    "            resting_on = occupant[check]\n",
    "            resting_ons.add(resting_on)\n",
    "    \n",
    "    if len(resting_ons) == 1:\n",
    "        if list(resting_ons)[0] in safe:\n",
    "            safe.remove(list(resting_ons)[0])\n",
    "    \n",
    "    zdiff = item2[2] - item1[2]\n",
    "    max_val += 1 + zdiff\n",
    "\n",
    "    for coord in coords:\n",
    "        check = (coord[0], coord[1])\n",
    "        grid[check] = max_val\n",
    "        occupant[check] = i\n",
    "        \n",
    "    rest_dict[i] = resting_ons\n",
    "print(len(safe))\n"
   ]
  },
  {
   "cell_type": "code",
   "execution_count": null,
   "metadata": {},
   "outputs": [],
   "source": [
    "from collections import deque\n",
    "\n",
    "def bfs(graph, start, secondary_graph):\n",
    "    \n",
    "    result = set()\n",
    "    queue = deque([start])\n",
    "\n",
    "    while queue:\n",
    "        node = queue.popleft()\n",
    "        result.add(node)\n",
    "        \n",
    "        for neighbor in graph[node]:\n",
    "            if neighbor is not None:\n",
    "                supporting_nodes = secondary_graph[neighbor]\n",
    "                if all(supporting_node in result for supporting_node in supporting_nodes):\n",
    "                    print(\"x\")\n",
    "                    queue.append((neighbor))\n",
    "        \n",
    "    return len(result) - 1"
   ]
  },
  {
   "cell_type": "code",
   "execution_count": null,
   "metadata": {},
   "outputs": [],
   "source": [
    "support_dict = {item: set() for item in list(range(len(lines)))}\n",
    "for i, item in enumerate(rest_dict.values()):\n",
    "    for val in item:\n",
    "        if val is not None:\n",
    "            support_dict[val].add(i)"
   ]
  },
  {
   "cell_type": "code",
   "execution_count": null,
   "metadata": {},
   "outputs": [],
   "source": [
    "counter = 0\n",
    "\n",
    "for i in range(len(lines)):\n",
    "        a = bfs(support_dict, i, rest_dict)\n",
    "        counter += a\n",
    "print(counter)"
   ]
  }
 ],
 "metadata": {
  "kernelspec": {
   "display_name": "Python 3",
   "language": "python",
   "name": "python3"
  },
  "language_info": {
   "codemirror_mode": {
    "name": "ipython",
    "version": 3
   },
   "file_extension": ".py",
   "mimetype": "text/x-python",
   "name": "python",
   "nbconvert_exporter": "python",
   "pygments_lexer": "ipython3",
   "version": "3.11.9"
  }
 },
 "nbformat": 4,
 "nbformat_minor": 2
}
