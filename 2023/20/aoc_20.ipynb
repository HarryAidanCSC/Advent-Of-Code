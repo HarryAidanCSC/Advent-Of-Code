{
 "cells": [
  {
   "cell_type": "markdown",
   "metadata": {},
   "source": [
    "# Advent of code Day 20\n",
    "\n",
    "## Part one"
   ]
  },
  {
   "cell_type": "code",
   "execution_count": null,
   "metadata": {},
   "outputs": [],
   "source": [
    "# Import libraries\n",
    "from collections import deque, Counter\n",
    "from dataclasses import dataclass\n",
    "import math"
   ]
  },
  {
   "cell_type": "code",
   "execution_count": null,
   "metadata": {},
   "outputs": [],
   "source": [
    "# Read and preprocess the file\n",
    "with open('input.txt', 'r') as file:\n",
    "    lines = [line.strip().replace(',', '').split() for line in file]"
   ]
  },
  {
   "cell_type": "code",
   "execution_count": null,
   "metadata": {},
   "outputs": [],
   "source": [
    "# Define flip flop module\n",
    "@dataclass\n",
    "class FlipFlop:\n",
    "    def __init__(self, line):\n",
    "        self.status = 0 # Default to off\n",
    "        self.source = line[0]\n",
    "        self.destinations = line[2:]\n",
    "    \n",
    "    def receive_pulse(self, pulse):\n",
    "        self.input = pulse[1]\n",
    "        if self.input == 1:\n",
    "            pass\n",
    "        else:\n",
    "            self.status = abs(self.status - 1)\n",
    "    \n",
    "    def build_pulse(self):\n",
    "        if self.input == 0:\n",
    "            self.pulse_build = [(self.source, self.status ,destination) for destination in self.destinations]\n",
    "        else:\n",
    "            self.pulse_build = None\n",
    "        \n",
    "        return self.pulse_build"
   ]
  },
  {
   "cell_type": "code",
   "execution_count": null,
   "metadata": {},
   "outputs": [],
   "source": [
    "# Define conjunction module\n",
    "@dataclass\n",
    "class Conjunction:\n",
    "    def __init__(self, line, targets):\n",
    "        self.source = line[0]\n",
    "        self.destinations = line[2:]\n",
    "        self.inputs = targets[1:]\n",
    "        self.status = {target: 0 for target in targets}\n",
    "    \n",
    "    def receive_pulse(self, pulse):\n",
    "        self.status[pulse[0]] = pulse[1]\n",
    "        \n",
    "        if sum(self.status.values()) == len(self.status.values()): \n",
    "            self.pulse_send = 0\n",
    "        else:\n",
    "            self.pulse_send = 1\n",
    "        \n",
    "    def build_pulse(self):\n",
    "        self.pulse_build = [(self.source, self.pulse_send ,destination) for destination in self.destinations]\n",
    "        return self.pulse_build"
   ]
  },
  {
   "cell_type": "code",
   "execution_count": null,
   "metadata": {},
   "outputs": [],
   "source": [
    "# Define the computer\n",
    "class Board:\n",
    "    def __init__(self, board, part_two_input=None):\n",
    "        \n",
    "        # P2 specific \n",
    "        self.part_two_input = part_two_input \n",
    "        \n",
    "        # Easily define flip-flop and broadcast inputs\n",
    "        self.broadcaster = [line for line in board if 'broadcaster' in line][0]\n",
    "        self.flip_flop = [[line[0][1:]] + line[1:] for line in board if '%' in line[0]]\n",
    "        \n",
    "        \n",
    "        # Conjunction modules need target modules\n",
    "        self.conjunction = []\n",
    "        for line in [line for line in board if '&' in line[0]]:\n",
    "            \n",
    "            self.temporary_line = [line[0][1:]] + line[1:]\n",
    "            temp_item = []\n",
    "            \n",
    "            for x in lines:\n",
    "                if self.temporary_line[0] in x[1:]:\n",
    "                    temp_item.append(x[0][1:])\n",
    "            \n",
    "            self.conjunction.append([self.temporary_line, temp_item])\n",
    "        \n",
    "        # Define dictionary containing modules\n",
    "        ## Add flip-flops\n",
    "        self.dict = {self.flip_flop[i][0]: FlipFlop(self.flip_flop[i]) for i in range(len(self.flip_flop))}\n",
    "        \n",
    "        ## Add conjunctions\n",
    "        for i in range(len(self.conjunction)):\n",
    "            self.dict[self.conjunction[i][0][0]] = Conjunction(self.conjunction[i][0], self.conjunction[i][1])\n",
    "        \n",
    "        ## Define initial pulse\n",
    "        self.broadcast_pulse = [(self.broadcaster[0], 0 ,destination) for destination in self.broadcaster[2:]]\n",
    "    \n",
    "    \n",
    "    def send_pulse(self):\n",
    "        self.signal = self.queue.popleft()\n",
    "        \n",
    "        # Send counter info \n",
    "        self.pulse_counts[self.signal[1]] += 1\n",
    "        \n",
    "        ## Part 2\n",
    "        if self.p2 and self.signal[2] in self.part_two_input[0] and self.signal[1] == 1:\n",
    "            self.part_two_solution.append(self.part_two_counter)\n",
    "            pass\n",
    "        \n",
    "        # Ignore writing to non existent modules\n",
    "        if self.signal[2] not in self.dict.keys():\n",
    "            pass\n",
    "        else:\n",
    "        \n",
    "            self.module = self.dict[self.signal[2]]\n",
    "            \n",
    "            self.module.receive_pulse(self.signal)\n",
    "            self.pulses = self.module.build_pulse()\n",
    "            \n",
    "            if self.pulses:\n",
    "                for pulse in self.pulses:\n",
    "                    self.queue.append(pulse)\n",
    "                    \n",
    "    \n",
    "    def press_button(self, p2 = False):\n",
    "        \n",
    "        self.p2 = p2\n",
    "        \n",
    "        self.queue = deque(self.broadcast_pulse)\n",
    "        self.pulse_counts = Counter({0: 1})\n",
    "        \n",
    "        while self.queue:\n",
    "            \n",
    "            self.send_pulse()\n",
    "        \n",
    "        return self.pulse_counts\n",
    "    \n",
    "    \n",
    "    def count_pulses(self):\n",
    "        total = sum((self.press_button() for _ in range(1000)), Counter())\n",
    "        \n",
    "        return total[0] * total[1]\n",
    "    \n",
    "    \n",
    "    \n",
    "    def part_two(self):\n",
    "        \n",
    "        self.part_two_counter = 0\n",
    "        self.part_two_solution = []\n",
    "        \n",
    "        for _ in range(5000):\n",
    "            self.part_two_counter += 1\n",
    "            \n",
    "            self.press_button(p2=True)\n",
    "            \n",
    "            if len(self.part_two_solution) >= 4:\n",
    "                self.answer = self.part_two_solution[0]\n",
    "                for num in self.part_two_solution:\n",
    "                    self.answer = abs(self.answer * num) // math.gcd(self.answer, num)\n",
    "                print(self.answer)\n",
    "                break\n"
   ]
  },
  {
   "cell_type": "code",
   "execution_count": null,
   "metadata": {},
   "outputs": [],
   "source": [
    "# Finish part one\n",
    "Board(lines).count_pulses()"
   ]
  },
  {
   "cell_type": "markdown",
   "metadata": {},
   "source": [
    "## Part two"
   ]
  },
  {
   "cell_type": "markdown",
   "metadata": {},
   "source": [
    "Investigate which modules need to be sending out low pulse to **rx**"
   ]
  },
  {
   "cell_type": "code",
   "execution_count": null,
   "metadata": {},
   "outputs": [],
   "source": [
    "for x in lines:\n",
    "    if 'rx' in x:\n",
    "        rx_signal_sender = x[0][1:]\n",
    "\n",
    "signal_senders = []\n",
    "for x in lines:\n",
    "    if rx_signal_sender in x:\n",
    "        signal_senders.append(x[0][1:])\n",
    "\n",
    "part_two_input = [rx_signal_sender] + signal_senders \n",
    "print(part_two_input)"
   ]
  },
  {
   "cell_type": "code",
   "execution_count": null,
   "metadata": {},
   "outputs": [],
   "source": [
    "Board(lines, part_two_input).part_two()"
   ]
  }
 ],
 "metadata": {
  "kernelspec": {
   "display_name": "Python 3",
   "language": "python",
   "name": "python3"
  },
  "language_info": {
   "codemirror_mode": {
    "name": "ipython",
    "version": 3
   },
   "file_extension": ".py",
   "mimetype": "text/x-python",
   "name": "python",
   "nbconvert_exporter": "python",
   "pygments_lexer": "ipython3",
   "version": "3.11.9"
  }
 },
 "nbformat": 4,
 "nbformat_minor": 2
}
