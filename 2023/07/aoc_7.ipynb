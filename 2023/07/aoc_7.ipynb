{
 "cells": [
  {
   "cell_type": "markdown",
   "metadata": {},
   "source": [
    "# AOC Day 7\n",
    "\n",
    "## Part Two"
   ]
  },
  {
   "cell_type": "code",
   "execution_count": 394,
   "metadata": {},
   "outputs": [],
   "source": [
    "from collections import Counter\n",
    "\n",
    "# Read lines from input file\n",
    "with open('input.txt', 'r') as file:\n",
    "    lines = [line.strip().split() for line in file]\n",
    "\n",
    "# Define strength of cards\n",
    "strength_cards = ['A', 'K', 'Q', 'J', 'T', '9', '8', '7', '6', '5', '4', '3', '2']\n",
    "strength_value = list(range(len(strength_cards), 0, -1))  # Reversed range\n",
    "strength_dict = dict(zip(strength_cards, strength_value))"
   ]
  },
  {
   "cell_type": "code",
   "execution_count": 395,
   "metadata": {},
   "outputs": [
    {
     "name": "stdout",
     "output_type": "stream",
     "text": [
      "248812215\n"
     ]
    }
   ],
   "source": [
    "# Iterate over each line in lines\n",
    "for line in lines:\n",
    "    # Extract characters from the first element of the line\n",
    "    chars = list(line[0])\n",
    "    \n",
    "    # Count occurrences of characters\n",
    "    count_dict = Counter(chars)\n",
    "    \n",
    "    # Extend line with maximum count and count of unique characters\n",
    "    line.extend([max(count_dict.values()), len(count_dict.values())])\n",
    "    \n",
    "    # Calculate strength of each character and extend line with strengths\n",
    "    strength = [strength_dict[char] for char in chars]\n",
    "    line.extend(strength)\n",
    "\n",
    "# Sort lines based on specified criteria\n",
    "lines = sorted(lines, key=lambda x: (x[2], -x[3], x[4], x[5], x[6], x[7], x[8]))\n",
    "\n",
    "# Calculate part_one\n",
    "part_one = 0\n",
    "for index, line in enumerate(lines):\n",
    "    value = int(line[1]) * (index + 1)\n",
    "    part_one += value\n",
    "\n",
    "print(part_one)"
   ]
  },
  {
   "cell_type": "markdown",
   "metadata": {},
   "source": [
    "## Part two"
   ]
  },
  {
   "cell_type": "code",
   "execution_count": 396,
   "metadata": {},
   "outputs": [],
   "source": [
    "from collections import Counter\n",
    "\n",
    "# Read lines from input file\n",
    "with open('input.txt', 'r') as file:\n",
    "    lines = [line.strip().split() for line in file]\n",
    "\n",
    "# Define strength of cards\n",
    "strength_cards = ['A', 'K', 'Q', 'T', '9', '8', '7', '6', '5', '4', '3', '2', 'J']\n",
    "strength_value = list(range(len(strength_cards), 0, -1))  # Reversed range\n",
    "strength_dict = dict(zip(strength_cards, strength_value))"
   ]
  },
  {
   "cell_type": "code",
   "execution_count": 397,
   "metadata": {},
   "outputs": [
    {
     "name": "stdout",
     "output_type": "stream",
     "text": [
      "250057090\n"
     ]
    }
   ],
   "source": [
    "# Iterate over each line in lines\n",
    "for line in lines:\n",
    "    # Extract characters from the first element of the line\n",
    "    chars = list(line[0])\n",
    "    \n",
    "    # Filter out 'J' characters\n",
    "    noj_chars = [x for x in chars if x != 'J']\n",
    "    \n",
    "    # Count occurrences of characters\n",
    "    count_dict = Counter(chars)\n",
    "    count_dict_noj = Counter(noj_chars)\n",
    "    \n",
    "    # Calculate the number of 'J' characters\n",
    "    number_jokers = count_dict['J']\n",
    "    \n",
    "    # Extend line based on number of 'J' characters\n",
    "    if number_jokers == 5:\n",
    "        line.extend([5, 1])\n",
    "    else:\n",
    "        line.extend([int(max(count_dict_noj.values()) + number_jokers), len(count_dict_noj.values())])\n",
    "    \n",
    "    # Calculate strength of each character and extend line with strengths\n",
    "    strength = [strength_dict[char] for char in chars]\n",
    "    line.extend(strength)\n",
    "\n",
    "# Sort lines based on specified criteria\n",
    "lines = sorted(lines, key=lambda x: (x[2], -x[3], x[4], x[5], x[6], x[7], x[8]))\n",
    "\n",
    "# Calculate part_two\n",
    "part_two = 0\n",
    "for index, line in enumerate(lines):\n",
    "    value = int(line[1]) * (index + 1)\n",
    "    part_two += value\n",
    "\n",
    "print(part_two)"
   ]
  }
 ],
 "metadata": {
  "kernelspec": {
   "display_name": "Python 3",
   "language": "python",
   "name": "python3"
  },
  "language_info": {
   "codemirror_mode": {
    "name": "ipython",
    "version": 3
   },
   "file_extension": ".py",
   "mimetype": "text/x-python",
   "name": "python",
   "nbconvert_exporter": "python",
   "pygments_lexer": "ipython3",
   "version": "3.11.9"
  }
 },
 "nbformat": 4,
 "nbformat_minor": 2
}
