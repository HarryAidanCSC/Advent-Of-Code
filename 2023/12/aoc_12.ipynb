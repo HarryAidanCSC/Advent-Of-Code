{
 "cells": [
  {
   "cell_type": "markdown",
   "metadata": {},
   "source": [
    "# Advent of Code - Day 12"
   ]
  },
  {
   "cell_type": "code",
   "execution_count": 29,
   "metadata": {
    "metadata": {}
   },
   "outputs": [],
   "source": [
    "with open('input.txt', 'r') as file:\n",
    "    lines = [line.strip().split() for line in file]"
   ]
  },
  {
   "cell_type": "code",
   "execution_count": 28,
   "metadata": {},
   "outputs": [
    {
     "name": "stdout",
     "output_type": "stream",
     "text": [
      "7379\n"
     ]
    }
   ],
   "source": [
    "score = 0\n",
    "for line in lines:\n",
    "    string = line[0]\n",
    "    test = [int(int1) for int1 in line[1].split(\",\")]\n",
    "\n",
    "    # Get number of question marks\n",
    "    question_mark_count = sum(1 for char in string if char == '?')\n",
    "\n",
    "    # Get number of hash\n",
    "    sumcount = sum(test)\n",
    "    hash_count = sum(1 for char in string if char == '#')\n",
    "\n",
    "    # Get position of question marks\n",
    "    question_mark_index = [i for i, ind in enumerate(string) if ind == '?']\n",
    "\n",
    "    from itertools import product\n",
    "    # Generate all possible combinations of '#' and '.' of length 9\n",
    "    combinations = list(product(\"#.\", repeat=question_mark_count))\n",
    "\n",
    "    # Create all combinations of solutions\n",
    "    for comb in combinations:\n",
    "        if sum(1 for char in comb if char == '#') == sumcount - hash_count:\n",
    "            list1 = string\n",
    "            for i in range(0, len(comb)):\n",
    "                list1 = list1[:question_mark_index[i]] + comb[i] + list1[question_mark_index[i]+1:]\n",
    "            \n",
    "            t1 = [i for i, ind in enumerate(list(list1)) if ind == '#']\n",
    "            counts = []\n",
    "            count = 1\n",
    "            for i in range(1, len(t1)):\n",
    "                if t1[i] == t1[i - 1] + 1:\n",
    "                    count += 1\n",
    "                else:\n",
    "                    counts.append(count)\n",
    "                    count = 1\n",
    "\n",
    "            counts.append(count)\n",
    "            score += (counts == test)\n",
    "print(score)"
   ]
  },
  {
   "cell_type": "markdown",
   "metadata": {},
   "source": [
    "## Part Two"
   ]
  },
  {
   "cell_type": "code",
   "execution_count": null,
   "metadata": {},
   "outputs": [],
   "source": [
    "score = 0\n",
    "for line in lines:\n",
    "    string = line[0]*5\n",
    "    test = [int(int1) for int1 in line[1].split(\",\")]*5\n",
    "\n",
    "    # Get number of question marks\n",
    "    question_mark_count = sum(1 for char in string if char == '?')\n",
    "\n",
    "    # Get number of hash\n",
    "    sumcount = sum(test)\n",
    "    hash_count = sum(1 for char in string if char == '#')\n",
    "\n",
    "    # Get position of question marks\n",
    "    question_mark_index = [i for i, ind in enumerate(string) if ind == '?']\n",
    "\n",
    "    from itertools import product\n",
    "    # Generate all possible combinations of '#' and '.' of length 9\n",
    "    combinations = list(product(\"#.\", repeat=question_mark_count))\n",
    "\n",
    "    # Create all combinations of solutions\n",
    "    for comb in combinations:\n",
    "        if sum(1 for char in comb if char == '#') == sumcount - hash_count:\n",
    "            list1 = string\n",
    "            for i in range(0, len(comb)):\n",
    "                list1 = list1[:question_mark_index[i]] + comb[i] + list1[question_mark_index[i]+1:]\n",
    "            \n",
    "            t1 = [i for i, ind in enumerate(list(list1)) if ind == '#']\n",
    "            counts = []\n",
    "            count = 1\n",
    "            for i in range(1, len(t1)):\n",
    "                if t1[i] == t1[i - 1] + 1:\n",
    "                    count += 1\n",
    "                else:\n",
    "                    counts.append(count)\n",
    "                    count = 1\n",
    "\n",
    "            counts.append(count)\n",
    "            score += (counts == test)\n",
    "print(score)"
   ]
  }
 ],
 "metadata": {
  "kernelspec": {
   "display_name": "Python 3",
   "language": "python",
   "name": "python3"
  },
  "language_info": {
   "codemirror_mode": {
    "name": "ipython",
    "version": 3
   },
   "file_extension": ".py",
   "mimetype": "text/x-python",
   "name": "python",
   "nbconvert_exporter": "python",
   "pygments_lexer": "ipython3",
   "version": "3.11.9"
  }
 },
 "nbformat": 4,
 "nbformat_minor": 2
}
