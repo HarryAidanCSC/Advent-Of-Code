{
 "cells": [
  {
   "cell_type": "markdown",
   "metadata": {},
   "source": [
    "# AOC Day 25"
   ]
  },
  {
   "cell_type": "code",
   "execution_count": null,
   "metadata": {},
   "outputs": [],
   "source": [
    "with open('input.txt', 'r') as file:\n",
    "    lines = [line.strip().split() for line in file]\n",
    "\n",
    "for i, line in enumerate(lines):\n",
    "    lines[i][0] = line[0][:-1]"
   ]
  },
  {
   "cell_type": "code",
   "execution_count": null,
   "metadata": {},
   "outputs": [],
   "source": [
    "clean = set()\n",
    "for line in lines:\n",
    "    for elem in line:\n",
    "        clean.add(elem)\n",
    "\n",
    "lookup = {}\n",
    "for i, v in enumerate(list(clean)):\n",
    "    lookup[v] = i"
   ]
  },
  {
   "cell_type": "code",
   "execution_count": null,
   "metadata": {},
   "outputs": [],
   "source": [
    "lines1= []\n",
    "for line in lines:\n",
    "    value = lookup[line[0]]\n",
    "    for elem in line[1:]:\n",
    "        val = lookup[elem]\n",
    "        edge = (value, val)\n",
    "        lines1.append(edge)"
   ]
  },
  {
   "cell_type": "code",
   "execution_count": null,
   "metadata": {},
   "outputs": [],
   "source": [
    "import random\n",
    "import copy\n",
    "\n",
    "def karger_min_cut(graph):\n",
    "    edges = copy.deepcopy(graph.edges)\n",
    "    nodes = copy.deepcopy(graph.nodes)\n",
    "    \n",
    "    cuts_made = []\n",
    "    supernodes = {node: [node] for node in nodes}\n",
    "    \n",
    "    while len(nodes) > 2:\n",
    "        \n",
    "        # Pick random edge\n",
    "        u, v = random.choice(edges)\n",
    "        cuts_made.append((u,v))\n",
    "        # Merge u into v\n",
    "        nodes.remove(u)\n",
    "        \n",
    "        supernodes[v].extend(supernodes[u])\n",
    "        del supernodes[u]\n",
    "        \n",
    "        # Contract edges\n",
    "        new_edges = []\n",
    "        for edge in edges:\n",
    "            if edge[0] == u:\n",
    "                new_edge = (v, edge[1])\n",
    "            elif edge[1] == u:\n",
    "                new_edge = (edge[0], v)\n",
    "            else:\n",
    "                new_edge = edge\n",
    "            \n",
    "            # Remvoe self loops\n",
    "            if new_edge[0] != new_edge[1]:\n",
    "                new_edges.append(new_edge)\n",
    "        \n",
    "        \n",
    "        edges = new_edges\n",
    "    \n",
    "    # The remaining edges are the cuts in the graph\n",
    "    remaining_nodes = list(supernodes.keys())\n",
    "    size_of_cut_group1, size_of_cut_group2 = (len(supernodes[remaining_nodes[0]]), len(supernodes[remaining_nodes[1]]))\n",
    "    \n",
    "    # The number of edges between the two remaining nodes is the cut size\n",
    "    cut_size = len(edges)\n",
    "    return cut_size, size_of_cut_group1,size_of_cut_group2, nodes"
   ]
  },
  {
   "cell_type": "code",
   "execution_count": null,
   "metadata": {},
   "outputs": [],
   "source": [
    "class Graph:\n",
    "    def __init__(self, edges):\n",
    "        self.edges = edges\n",
    "        self.nodes = set([y for x in lines1 for y in x])\n",
    "\n",
    "graph = Graph(lines1)\n",
    "\n",
    "while True:\n",
    "    cuts,size1,size2, nodes  = karger_min_cut(graph)\n",
    "    if cuts == 3:\n",
    "        print(size1*size2)\n",
    "        break"
   ]
  }
 ],
 "metadata": {
  "kernelspec": {
   "display_name": "Python 3",
   "language": "python",
   "name": "python3"
  },
  "language_info": {
   "codemirror_mode": {
    "name": "ipython",
    "version": 3
   },
   "file_extension": ".py",
   "mimetype": "text/x-python",
   "name": "python",
   "nbconvert_exporter": "python",
   "pygments_lexer": "ipython3",
   "version": "3.11.9"
  }
 },
 "nbformat": 4,
 "nbformat_minor": 2
}
