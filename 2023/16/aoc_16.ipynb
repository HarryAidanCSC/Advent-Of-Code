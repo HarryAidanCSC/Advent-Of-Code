{
 "cells": [
  {
   "cell_type": "code",
   "execution_count": null,
   "metadata": {},
   "outputs": [],
   "source": [
    "with open('input.txt', 'r') as file:\n",
    "    lines = [line.strip().split() for line in file]\n",
    "\n",
    "for i, line in enumerate(lines):\n",
    "    lines[i] = list(line[0].replace(\"\\\\\", \"¬\"))"
   ]
  },
  {
   "cell_type": "markdown",
   "metadata": {},
   "source": [
    "## Define unique properties of chars"
   ]
  },
  {
   "cell_type": "code",
   "execution_count": null,
   "metadata": {},
   "outputs": [],
   "source": [
    "slash_dictionary = {\"south\" : \"west\",\"west\" : \"south\", \"east\" : \"north\", \"north\" : \"east\"}\n",
    "gun_dictionary = {\"south\" : \"east\", \"east\" : \"south\", \"north\" : \"west\", \"west\" : \"north\"}\n",
    "directions = {\"north\": (-1, 0), \"south\": (1, 0), \"west\": (0, -1), \"east\": (0, 1)}"
   ]
  },
  {
   "cell_type": "code",
   "execution_count": null,
   "metadata": {},
   "outputs": [],
   "source": [
    "from functools import lru_cache\n",
    "\n",
    "@lru_cache(maxsize=None)\n",
    "def player_move(starting_position, input_direction, max_position):\n",
    "    \n",
    "    movement = directions[input_direction]\n",
    "    \n",
    "    end_position = (starting_position[0] + movement[0], starting_position[1] + movement[1])\n",
    "    \n",
    "    # Is end position out of bounds\n",
    "    if max(end_position) >= max_position or min(end_position) < 0:\n",
    "        return None\n",
    "    else:\n",
    "        return end_position"
   ]
  },
  {
   "cell_type": "code",
   "execution_count": null,
   "metadata": {},
   "outputs": [],
   "source": [
    "@lru_cache(maxsize=None)\n",
    "def player_behave(input_direction, char, starting_position):\n",
    "    \n",
    "    # If char is a blank\n",
    "    if char == '.':\n",
    "        return input_direction\n",
    "    elif char == '/':\n",
    "        return slash_dictionary[input_direction]\n",
    "    elif char == '¬':\n",
    "        return gun_dictionary[input_direction]\n",
    "    elif char == '|':\n",
    "        if input_direction in [\"north\", \"south\"]:\n",
    "            return input_direction\n",
    "        else:\n",
    "            secondary_coord_dump.append([starting_position, \"south\"])\n",
    "            return \"north\"\n",
    "    elif char == '-':\n",
    "        if input_direction in [\"east\", \"west\"]:\n",
    "            return input_direction\n",
    "        else:\n",
    "            secondary_coord_dump.append([starting_position, \"east\"])\n",
    "            return \"west\""
   ]
  },
  {
   "cell_type": "code",
   "execution_count": null,
   "metadata": {},
   "outputs": [],
   "source": [
    "secondary_coord_dump = [[(0, 110), 'north']]\n",
    "coord_store = set()\n",
    "max_position = len(lines)\n",
    "\n",
    "while secondary_coord_dump:\n",
    "    \n",
    "    starting_position = secondary_coord_dump[0][0]\n",
    "    input_direction = secondary_coord_dump[0][1]\n",
    "    del secondary_coord_dump[0]\n",
    "\n",
    "    while starting_position is not None:\n",
    "        starting_position = player_move(starting_position, input_direction, max_position)\n",
    "        if starting_position is None:\n",
    "            break\n",
    "        char = lines[starting_position[0]][starting_position[1]]\n",
    "        input_direction = player_behave(input_direction, char, starting_position)\n",
    "        velodrome = (starting_position, input_direction)\n",
    "        if velodrome in coord_store:\n",
    "            break\n",
    "        coord_store.add(velodrome)\n",
    "    \n",
    "print(len({t[0] for t in coord_store}))"
   ]
  },
  {
   "cell_type": "markdown",
   "metadata": {},
   "source": [
    "## Part Two"
   ]
  },
  {
   "cell_type": "code",
   "execution_count": null,
   "metadata": {},
   "outputs": [],
   "source": [
    "nested_list = [\n",
    "    [[(x, -1), 'east'] for x in range(0,110)],\n",
    "    [[(110, x), 'north'] for x in range(110)],\n",
    "    [[(x, 110), 'west'] for x in range(110)],\n",
    "    [[(-1, x), 'south'] for x in range(110)]\n",
    "]\n",
    "\n",
    "primary_coord_dump = [item for sublist in nested_list for item in sublist]\n",
    "\n",
    "pt2_store = []\n",
    "\n",
    "for y in flattened_list:\n",
    "    player_behave.cache_clear()\n",
    "    \n",
    "    secondary_coord_dump = [y]\n",
    "    coord_store = set()\n",
    "    max_position = len(lines)\n",
    "\n",
    "    while secondary_coord_dump:\n",
    "\n",
    "        starting_position = secondary_coord_dump[0][0]\n",
    "        input_direction = secondary_coord_dump[0][1]\n",
    "        del secondary_coord_dump[0]\n",
    "\n",
    "        while starting_position is not None:\n",
    "            starting_position = player_move(starting_position, input_direction, max_position)\n",
    "            if starting_position is None:\n",
    "                break\n",
    "            char = lines[starting_position[0]][starting_position[1]]\n",
    "            input_direction = player_behave(input_direction, char, starting_position)\n",
    "            velodrome = (starting_position, input_direction)\n",
    "            if velodrome in coord_store:\n",
    "                break\n",
    "            coord_store.add(velodrome)\n",
    "        \n",
    "    pt2_store.append(len({t[0] for t in coord_store}))\n",
    "    \n",
    "print(max(pt2_store))"
   ]
  }
 ],
 "metadata": {
  "kernelspec": {
   "display_name": "Python 3",
   "language": "python",
   "name": "python3"
  },
  "language_info": {
   "codemirror_mode": {
    "name": "ipython",
    "version": 3
   },
   "file_extension": ".py",
   "mimetype": "text/x-python",
   "name": "python",
   "nbconvert_exporter": "python",
   "pygments_lexer": "ipython3",
   "version": "3.11.9"
  }
 },
 "nbformat": 4,
 "nbformat_minor": 2
}
