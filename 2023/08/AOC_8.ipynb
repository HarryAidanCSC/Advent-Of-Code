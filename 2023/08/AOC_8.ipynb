{
 "cells": [
  {
   "cell_type": "markdown",
   "metadata": {},
   "source": [
    "# AOC Day 8\n",
    "\n",
    "## Part one"
   ]
  },
  {
   "cell_type": "code",
   "execution_count": 54,
   "metadata": {},
   "outputs": [],
   "source": [
    "with open('input.txt', 'r') as file:\n",
    "    lines = [line.strip().split() for line in file]\n",
    "\n",
    "instructions = list(str(lines[0]))[2:-2]*10000\n",
    "\n",
    "lines = lines[2:]\n",
    "for line in lines:\n",
    "    del line[1]\n",
    "    line[1] = line[1].replace('(','').replace(',','')\n",
    "    line[2] = line[2].replace(')','')"
   ]
  },
  {
   "cell_type": "code",
   "execution_count": 55,
   "metadata": {},
   "outputs": [],
   "source": [
    "def get_output(input_value, instruct):\n",
    "    \n",
    "    for x in lines:\n",
    "        if x[0] == input:\n",
    "            input_list = x\n",
    "            continue\n",
    "    \n",
    "    if instruct == 'L':\n",
    "        output = input_list[1]\n",
    "    if instruct == 'R':\n",
    "        output = input_list[2]\n",
    "    \n",
    "    return output"
   ]
  },
  {
   "cell_type": "code",
   "execution_count": 56,
   "metadata": {},
   "outputs": [
    {
     "name": "stdout",
     "output_type": "stream",
     "text": [
      "19241\n"
     ]
    }
   ],
   "source": [
    "input = 'AAA'\n",
    "counter = 0\n",
    "\n",
    "for ins in instructions:\n",
    "    counter += 1\n",
    "    input = get_output(input_value = input, instruct = ins)\n",
    "    if input == \"ZZZ\":\n",
    "        print(counter)\n",
    "        break"
   ]
  },
  {
   "cell_type": "markdown",
   "metadata": {},
   "source": [
    "## Part Two"
   ]
  },
  {
   "cell_type": "code",
   "execution_count": 57,
   "metadata": {},
   "outputs": [],
   "source": [
    "start = []\n",
    "for line in lines:\n",
    "    if line[0][-1] == 'A':\n",
    "        start.append(line)\n",
    "\n",
    "part_two = []\n",
    "\n",
    "for input_list in start:\n",
    "    input = input_list[0]\n",
    "    counter = 0\n",
    "    for ins in instructions:\n",
    "        counter += 1\n",
    "        input = get_output(input_value = input, instruct = ins)\n",
    "        if input.endswith(\"Z\"):\n",
    "            part_two.append(counter)\n",
    "            break"
   ]
  },
  {
   "cell_type": "code",
   "execution_count": 60,
   "metadata": {},
   "outputs": [
    {
     "name": "stdout",
     "output_type": "stream",
     "text": [
      "9606140307013\n"
     ]
    }
   ],
   "source": [
    "import math\n",
    "\n",
    "def lcm_multiple(args):\n",
    "    result = args[0]\n",
    "    for num in args[1:]:\n",
    "        result = math.lcm(result, num)\n",
    "    return result\n",
    "\n",
    "print(lcm_multiple(part_two))"
   ]
  }
 ],
 "metadata": {
  "kernelspec": {
   "display_name": "Python 3",
   "language": "python",
   "name": "python3"
  },
  "language_info": {
   "codemirror_mode": {
    "name": "ipython",
    "version": 3
   },
   "file_extension": ".py",
   "mimetype": "text/x-python",
   "name": "python",
   "nbconvert_exporter": "python",
   "pygments_lexer": "ipython3",
   "version": "3.11.9"
  }
 },
 "nbformat": 4,
 "nbformat_minor": 2
}
