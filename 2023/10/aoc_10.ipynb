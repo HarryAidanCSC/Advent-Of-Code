{
 "cells": [
  {
   "cell_type": "markdown",
   "metadata": {},
   "source": [
    "# Advent of Code - Day 10"
   ]
  },
  {
   "cell_type": "code",
   "execution_count": null,
   "metadata": {},
   "outputs": [],
   "source": [
    "from itertools import chain\n",
    "with open('input.txt', 'r') as file:\n",
    "    lines = [line.strip().split() for line in file]\n",
    "\n",
    "for i, line in enumerate(lines):\n",
    "    lines[i] = list(str(line).replace(\"[\",\"\").replace(\"]\",\"\").replace(\"'\",\"\"))\n",
    "\n",
    "\n",
    "all_val = list(set(list(chain.from_iterable(lines))))\n",
    "\n",
    "\n",
    "for d in lines:\n",
    "    d.insert(0, \"X\")\n",
    "    d.insert(len(d),\"X\")\n",
    "\n",
    "dum = list(\"X\"*len(lines[0]))\n",
    "lines.extend([dum])\n",
    "lines.insert(0, dum)"
   ]
  },
  {
   "cell_type": "code",
   "execution_count": null,
   "metadata": {},
   "outputs": [],
   "source": [
    "# find index of S\n",
    "break_flag = False\n",
    "for iy, y in enumerate(lines):\n",
    "    for ix, x in enumerate(y):\n",
    "        if x == \"S\":\n",
    "            break_flag = True\n",
    "        if break_flag:\n",
    "            break\n",
    "    if break_flag:\n",
    "            break\n",
    "\n",
    "coords = [[ix, iy]]"
   ]
  },
  {
   "cell_type": "markdown",
   "metadata": {},
   "source": [
    "## Part One"
   ]
  },
  {
   "cell_type": "code",
   "execution_count": null,
   "metadata": {},
   "outputs": [],
   "source": [
    "def find_next(xco, yco, oneswitch, twoswitch, threeswitch, fourswitch):\n",
    "    \n",
    "    \n",
    "    box = [line[xco-1:xco+2] for line in lines[yco-1:yco+2]]\n",
    "    next_poss =  list(chain.from_iterable(box))\n",
    "    \n",
    "    # Indices of elements to remove\n",
    "    indices_to_remove = [0, 2, 4, 6, 8]\n",
    "    \n",
    "    for index in sorted(indices_to_remove, reverse=True):\n",
    "        del next_poss[index]  \n",
    "    \n",
    "    for i, val in enumerate(next_poss):\n",
    "        # Test One\n",
    "        if i == 0 and val in [all_val[1], all_val[-1], all_val[-2], all_val[4]] and oneswitch:\n",
    "            coord_new = [xco,yco-1]\n",
    "            if coord_new not in coords:\n",
    "                coords.append(coord_new)\n",
    "                break\n",
    "        # Test Two\n",
    "        if i == 1 and val in [all_val[2], all_val[5], all_val[-2], all_val[4]] and twoswitch:\n",
    "            coord_new = [xco-1,yco]\n",
    "            if coord_new not in coords:\n",
    "                coords.append(coord_new)\n",
    "                break\n",
    "        # Test Three\n",
    "        if i == 2 and val in [all_val[-2], all_val[0], all_val[-1], all_val[2]] and threeswitch:\n",
    "            coord_new = [xco+1,yco]\n",
    "            if coord_new not in coords:\n",
    "                coords.append(coord_new)\n",
    "                break\n",
    "        # Test Four\n",
    "        if i == 3 and val in [all_val[-2], all_val[1], all_val[-3], all_val[0]] and fourswitch:\n",
    "            coord_new = [xco,yco+1]\n",
    "            if coord_new not in coords:\n",
    "                coords.append(coord_new)\n",
    "                break\n",
    "    return(coord_new)"
   ]
  },
  {
   "cell_type": "code",
   "execution_count": null,
   "metadata": {},
   "outputs": [],
   "source": [
    "oneswitch = True; twoswitch = True; threeswitch = True; fourswitch = True; s_flag = True\n",
    "coord_breaker = []\n",
    "\n",
    "\n",
    "while s_flag :\n",
    "    \n",
    "    new_coords = find_next(coords[-1][0], coords[-1][1], oneswitch, twoswitch, threeswitch, fourswitch)\n",
    "    \n",
    "    item = lines[coords[-1][1]][coords[-1][0]]\n",
    "\n",
    "    # By default switches are set to FALSE\n",
    "    oneswitch = False; twoswitch = False; threeswitch = False; fourswitch = False\n",
    "    \n",
    "    # Does pipe connect upwards\n",
    "    if item in [all_val[1], all_val[5], all_val[0]]:\n",
    "        oneswitch = True\n",
    "    # Does pipe connect west\n",
    "    if item in [all_val[0], all_val[-1], all_val[2]]:\n",
    "        twoswitch = True\n",
    "    # Does pipe connect east\n",
    "    if item in [all_val[5], all_val[4], all_val[2]]:\n",
    "        threeswitch = True\n",
    "    # Does pipe connect downwards\n",
    "    if item in [all_val[1], all_val[7], all_val[4]]:\n",
    "        fourswitch = True\n",
    "    \n",
    "    # Are we back to the start\n",
    "    if new_coords in coord_breaker:\n",
    "        s_flag = False\n",
    "        \n",
    "    coord_breaker.append(new_coords)\n",
    "\n",
    "print(len(coords)/2)"
   ]
  },
  {
   "cell_type": "markdown",
   "metadata": {},
   "source": [
    "## Part Two"
   ]
  },
  {
   "cell_type": "markdown",
   "metadata": {},
   "source": [
    "This part requires use of photo editing software, decided this was not cheating<br>\n",
    "After chunk 10, open up your .png in MS Paint and flood fill the bit clearly on the outside with white<br>\n",
    "We can then find values which were not filled<br>"
   ]
  },
  {
   "cell_type": "code",
   "execution_count": null,
   "metadata": {},
   "outputs": [],
   "source": [
    "import copy \n",
    "\n",
    "toney = copy.deepcopy(lines)\n",
    "for y, v1 in enumerate(toney):\n",
    "    for x, v2 in enumerate(v1):\n",
    "        if [x,y] not in coords:\n",
    "            toney[y][x] = 0"
   ]
  },
  {
   "cell_type": "code",
   "execution_count": null,
   "metadata": {},
   "outputs": [],
   "source": [
    "def get_cell(value):\n",
    "    if value == 0:\n",
    "        cell = [[0,0,0],\n",
    "                [0,90,0],\n",
    "                [0,0,0]]\n",
    "    if value == 'S':\n",
    "        cell = [[0,0,0],\n",
    "                [0,255,255],\n",
    "                [0,255,0]]\n",
    "    if value == '|':\n",
    "        cell = [[0,255,0],\n",
    "                [0,255,0],\n",
    "                [0,255,0]]\n",
    "    if value == 'L':\n",
    "        cell = [[0,255,0],\n",
    "                [0,255,255],\n",
    "                [0,0,0]]\n",
    "    if value == 'J':\n",
    "        cell = [[0,255,0],\n",
    "                [255,255,0],\n",
    "                [0,0,0]]\n",
    "    if value == '7':\n",
    "        cell = [[0,0,0],\n",
    "                [255,255,0],\n",
    "                [0,255,0]]\n",
    "    if value == '-':\n",
    "        cell = [[0,0,0],\n",
    "                [255,255,255],\n",
    "                [0,0,0]]\n",
    "    if value == 'F':\n",
    "        cell = [[0,0,0],\n",
    "                [0,255,255],\n",
    "                [0,255,0]]\n",
    "    return cell"
   ]
  },
  {
   "cell_type": "code",
   "execution_count": null,
   "metadata": {},
   "outputs": [],
   "source": [
    "flattened_list = list(chain.from_iterable(toney))\n",
    "\n",
    "maze = []\n",
    "for i in flattened_list:\n",
    "    maze.append(get_cell(i))\n",
    "    \n",
    "# Number of chunks\n",
    "num_chunks = 142\n",
    "\n",
    "# Calculate the size of each chunk\n",
    "chunk_size = len(maze) // num_chunks\n",
    "\n",
    "# Divide the list into chunks\n",
    "chunks = [maze[i:i+chunk_size] for i in range(0, len(maze), chunk_size)]\n",
    "\n",
    "\n",
    "maze1 = []\n",
    "for chunk in chunks:\n",
    "    for val in range(3):\n",
    "        new_chunk = list(chain.from_iterable([chunk1[val] for chunk1 in chunk]))\n",
    "        maze1.append(new_chunk)\n",
    "        del new_chunk\n",
    "\n",
    "from PIL import Image\n",
    "\n",
    "# Example list of lists representing pixel data (grayscale image)\n",
    "pixel_data = maze1\n",
    "\n",
    "# Create a new image with PIL\n",
    "image = Image.new(\"RGB\", (len(pixel_data[0]), len(pixel_data)))\n",
    "\n",
    "# Set pixel values based on the list of lists\n",
    "for y, row in enumerate(pixel_data):\n",
    "    for x, pixel_value in enumerate(row):\n",
    "        image.putpixel((x, y), (pixel_value, pixel_value, pixel_value))  # Grayscale image\n",
    "\n",
    "# Save the image as a PNG file\n",
    "image.save(\"output.png\")\n"
   ]
  },
  {
   "cell_type": "markdown",
   "metadata": {},
   "source": [
    "### MS Paint here"
   ]
  },
  {
   "cell_type": "code",
   "execution_count": null,
   "metadata": {},
   "outputs": [],
   "source": [
    "# Get the width and height of the image\n",
    "image = Image.open(\"output.png\")\n",
    "width, height = image.size\n",
    "\n",
    "# Create an empty list to store the green values of all pixels\n",
    "green_values_list = []\n",
    "\n",
    "# Iterate over all pixels in the image\n",
    "for y in range(height):\n",
    "    row_green_values = []  # Empty list to store green values of pixels in a row\n",
    "    for x in range(width):\n",
    "        rgb_values = image.getpixel((x, y))  # Get RGB values of the pixel at (x, y)\n",
    "        green_value = rgb_values[1]  # Extract green value (index 1) from RGB tuple\n",
    "        row_green_values.append(green_value)   # Append green value to the row list\n",
    "    green_values_list.append(row_green_values)  # Append the row list to the main list"
   ]
  },
  {
   "cell_type": "code",
   "execution_count": null,
   "metadata": {},
   "outputs": [],
   "source": [
    "import statistics\n",
    "\n",
    "counter = 0\n",
    "for i in range(1, len(green_values_list)+1, 3):\n",
    "    row = green_values_list[i]\n",
    "    for i2 in range(1, len(row)+1, 3):\n",
    "        if row[i2] == 90:\n",
    "            box1 = []\n",
    "            for box in green_values_list[i-1:i+2]:\n",
    "                box1.extend(box[(i2-1):(i2+2)])\n",
    "            if statistics.median(box1) == 0:\n",
    "                counter  += 1 \n",
    "print(counter)"
   ]
  }
 ],
 "metadata": {
  "kernelspec": {
   "display_name": "Python 3",
   "language": "python",
   "name": "python3"
  },
  "language_info": {
   "codemirror_mode": {
    "name": "ipython",
    "version": 3
   },
   "file_extension": ".py",
   "mimetype": "text/x-python",
   "name": "python",
   "nbconvert_exporter": "python",
   "pygments_lexer": "ipython3",
   "version": "3.11.9"
  }
 },
 "nbformat": 4,
 "nbformat_minor": 2
}
