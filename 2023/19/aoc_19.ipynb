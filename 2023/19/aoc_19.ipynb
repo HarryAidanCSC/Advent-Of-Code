{
 "cells": [
  {
   "cell_type": "markdown",
   "metadata": {},
   "source": [
    "# AOC Day 19"
   ]
  },
  {
   "cell_type": "code",
   "execution_count": 1,
   "metadata": {},
   "outputs": [],
   "source": [
    "with open('input.txt', 'r') as file:\n",
    "    lines = [line.strip().split() for line in file]\n",
    "\n",
    "from functools import lru_cache"
   ]
  },
  {
   "cell_type": "code",
   "execution_count": 2,
   "metadata": {},
   "outputs": [],
   "source": [
    "empty_list_index = [index for index, sublist in enumerate(lines) if sublist == []][0]\n",
    "\n",
    "workflow = [line[0] for line in lines[:empty_list_index]]\n",
    "rating = [line[0] for line in lines[(empty_list_index + 1):]]"
   ]
  },
  {
   "cell_type": "code",
   "execution_count": 3,
   "metadata": {},
   "outputs": [],
   "source": [
    "import re\n",
    "@lru_cache(maxsize=None) \n",
    "def extract_rating_numeric(rating_item, letter):\n",
    "    pattern = f'{letter}=(\\d+)'\n",
    "    match = re.search(pattern, rating_item)\n",
    "    return match.group(1)"
   ]
  },
  {
   "cell_type": "code",
   "execution_count": 4,
   "metadata": {},
   "outputs": [],
   "source": [
    "@lru_cache(maxsize=None) \n",
    "def extract_workflow_name(workflow_item):\n",
    "    pattern = r\"(.*?)\\{\"\n",
    "    match = re.search(pattern, workflow_item)\n",
    "    return match.group(1)"
   ]
  },
  {
   "cell_type": "code",
   "execution_count": 5,
   "metadata": {},
   "outputs": [],
   "source": [
    "@lru_cache(maxsize=None) \n",
    "def extract_workflow_substrings(workflow_item):\n",
    "    pattern = r\"[{,]([^,}]+)\"\n",
    "    matches = re.findall(pattern, workflow_item)\n",
    "    return matches"
   ]
  },
  {
   "cell_type": "code",
   "execution_count": 6,
   "metadata": {},
   "outputs": [],
   "source": [
    "@lru_cache(maxsize=None) \n",
    "def compare_integers(num1, num2, comp_char):\n",
    "    if comp_char == '>':\n",
    "        return num1 > num2\n",
    "    elif comp_char == '<':\n",
    "        return num1 < num2\n",
    "    elif comp_char == '<=':\n",
    "        return num1 <= num2\n",
    "    elif comp_char == '<=':\n",
    "        return num1 <= num2"
   ]
  },
  {
   "cell_type": "code",
   "execution_count": 7,
   "metadata": {},
   "outputs": [],
   "source": [
    "@lru_cache(maxsize=None) \n",
    "def extract_workflow_return(workflow_item):\n",
    "    pattern = r\":(.*)\"\n",
    "    match = re.search(pattern, workflow_item).group(1)\n",
    "    return match"
   ]
  },
  {
   "cell_type": "code",
   "execution_count": 8,
   "metadata": {},
   "outputs": [],
   "source": [
    "@lru_cache(maxsize=None) \n",
    "def sum_rating_digits(rating_item):\n",
    "    digits = re.findall(r'\\d+', rating_item)\n",
    "    return sum(int(digit) for digit in digits)"
   ]
  },
  {
   "cell_type": "code",
   "execution_count": 9,
   "metadata": {},
   "outputs": [],
   "source": [
    "def get_return_value(rating_item, workflow_name):\n",
    "    for w in workflow:\n",
    "    \n",
    "        name = extract_workflow_name(w)\n",
    "        \n",
    "        if name == workflow_name:\n",
    "            \n",
    "            substrings = extract_workflow_substrings(w)    \n",
    "            \n",
    "            for s in substrings:\n",
    "                \n",
    "                if ':' in s:\n",
    "                    \n",
    "                    char = s[0]\n",
    "                    comparator = s[1]\n",
    "                    workflow_value = int(re.search(r'(\\d+)', s).group(0))\n",
    "                    \n",
    "                    rating_value = int(extract_rating_numeric(rating_item, char))\n",
    "                    \n",
    "                    if compare_integers(rating_value, workflow_value, comparator):\n",
    "                        \n",
    "                        return_value = extract_workflow_return(s)\n",
    "                        \n",
    "                        break\n",
    "                else: \n",
    "                    \n",
    "                    return_value = s\n",
    "    \n",
    "    return return_value"
   ]
  },
  {
   "cell_type": "code",
   "execution_count": 10,
   "metadata": {},
   "outputs": [],
   "source": [
    "partone = 0\n",
    "for rating_item in rating:\n",
    "    workflow_name = \"in\"\n",
    "\n",
    "    while True:\n",
    "        workflow_name = get_return_value(rating_item, workflow_name)\n",
    "        if workflow_name == \"A\":\n",
    "            \n",
    "            sum_value = sum_rating_digits(rating_item)\n",
    "            partone += sum_value\n",
    "            break\n",
    "        \n",
    "        if workflow_name == \"R\":\n",
    "            break"
   ]
  },
  {
   "cell_type": "markdown",
   "metadata": {},
   "source": [
    "## Part 2"
   ]
  },
  {
   "cell_type": "code",
   "execution_count": 12,
   "metadata": {},
   "outputs": [],
   "source": [
    "def extract_workflow_pipeline(workflow_name, workflow_item, inital_swtich = False, inital_value = \"\"):\n",
    "    \n",
    "    if inital_swtich:\n",
    "        workflow_search = inital_value\n",
    "    else:\n",
    "        workflow_search = workflow_name\n",
    "    \n",
    "    if f\"{workflow_search}\" + \"{\" in workflow_item and \":A,\" in workflow_item or f':{workflow_name}'in workflow_item:\n",
    "        \n",
    "        items = pattern = re.sub(r\".*?\\{\", \"\", workflow_item).split(\",\")\n",
    "        index_match = [i for i, item in enumerate(items) if workflow_name in item][0]\n",
    "        items_a = items[:index_match]\n",
    "        \n",
    "        items_aa = [re.search(r\"^(.*?):\", match1).group(1).replace(\"<\", \"#\").replace(\">\", \"<=\").replace(\"#\", \">=\") for match1 in items_a]\n",
    "        items_b = [re.search(r\"^(.*?):\", items[index_match]).group(1)]\n",
    "        \n",
    "        return items_aa + items_b\n",
    "    elif f\"{workflow_search}\" + \"{\" in workflow_item and \",A\" + \"}\" in workflow_item or f',{workflow_name}' + \"}\" in workflow_item:\n",
    "        \n",
    "        user_input = ',' + workflow_name \n",
    "        pattern = r\"\\{(.*?)\\b\" + re.escape(user_input)\n",
    "        match = re.search(pattern, workflow_item)\n",
    "        matches = match.group(1).split(\",\")\n",
    "        matches_clean = [re.search(r\"^(.*?):\", match1).group(1).replace(\"<\", \"#\").replace(\">\", \"<=\").replace(\"#\", \">=\") for match1 in matches]\n",
    "        return matches_clean"
   ]
  },
  {
   "cell_type": "code",
   "execution_count": 13,
   "metadata": {},
   "outputs": [],
   "source": [
    "def update_store(store, comparator, num):\n",
    "    if comparator == \"<\":\n",
    "        store = (store[0], min(store[1], num - 1))\n",
    "    elif comparator == \"<=\":\n",
    "        store = (store[0], min(store[1], num))\n",
    "    elif comparator == \">\":\n",
    "        store = (max(store[0], num + 1), store[1])\n",
    "    elif comparator == \">=\":\n",
    "        store = (max(store[0], num), store[1])\n",
    "    return store\n"
   ]
  },
  {
   "cell_type": "code",
   "execution_count": 14,
   "metadata": {},
   "outputs": [],
   "source": [
    "def extract_workflow_a(workflow_name, workflow_item):\n",
    "    \n",
    "    items = re.sub(r\".*?\\{\", \"\", workflow_item).split(\",\")\n",
    "\n",
    "    index_match = [i for i, item in enumerate(items) if \"A\" in item]\n",
    "    store = []\n",
    "    for a in index_match:\n",
    "        if f':A'in workflow_item:\n",
    "            \n",
    "\n",
    "            items_a = items[:a+1]\n",
    "            \n",
    "            items_aa = [re.search(r\"^(.*?):\", items_a[-1]).group(1)]\n",
    "            \n",
    "            if a != 0:\n",
    "                items_b = [re.search(r\"^(.*?):\", match1).group(1).replace(\"<\", \"#\").replace(\">\", \"<=\").replace(\"#\", \">=\") for match1 in items_a[:-1]]\n",
    "            else:\n",
    "                items_b = []\n",
    "            \n",
    "            store.append(items_aa + items_b)\n",
    "            \n",
    "            workflow_item = workflow_item.replace(\"A\", \"X\", 1)\n",
    "            \n",
    "            \n",
    "        elif f',A' + \"}\" in workflow_item:\n",
    "            \n",
    "            if index_match == 0:\n",
    "                continue\n",
    "            else:\n",
    "                matches_clean = [re.search(r\"^(.*?):\", match1).group(1).replace(\"<\", \"#\").replace(\">\", \"<=\").replace(\"#\", \">=\") for match1 in items[:-1]]\n",
    "                matches_clean\n",
    "                store.append(matches_clean)\n",
    "    return(store)"
   ]
  },
  {
   "cell_type": "code",
   "execution_count": 15,
   "metadata": {},
   "outputs": [],
   "source": [
    "workflow_pos = []\n",
    "for wp in workflow:\n",
    "    if \"A}\" in wp or \":A\" in wp:\n",
    "        workflow_pos.append(wp)"
   ]
  },
  {
   "cell_type": "code",
   "execution_count": 16,
   "metadata": {},
   "outputs": [],
   "source": [
    "import copy\n",
    "super_store = []\n",
    "for w1 in workflow_pos:\n",
    "    wp_name = extract_workflow_name(w1)\n",
    "    wp_name_copy = copy.deepcopy(wp_name)\n",
    "    init_store = extract_workflow_a(wp_name, w1)\n",
    "\n",
    "\n",
    "    for init in init_store:\n",
    "        store = init\n",
    "        wp_name = wp_name_copy\n",
    "        workflow1 = copy.deepcopy(workflow)\n",
    "        breakflag = True\n",
    "        while breakflag:\n",
    "            for w in workflow:\n",
    "                if f',{wp_name}'+ \"}\" in w or f':{wp_name}' + \"}\" in w or f',{wp_name},' in w or f':{wp_name},' in w:\n",
    "                    \n",
    "                    string = extract_workflow_pipeline(wp_name, w)\n",
    "                    for s in string:\n",
    "                        store.append(s)\n",
    "                    wp_name = extract_workflow_name(w)\n",
    "                    if wp_name == \"in\":\n",
    "                        breakflag = False\n",
    "                        super_store.append(store)\n",
    "                    continue"
   ]
  },
  {
   "cell_type": "code",
   "execution_count": 17,
   "metadata": {},
   "outputs": [],
   "source": [
    "super_critical = []\n",
    "for store in super_store:\n",
    "    xpos = (1,4000)\n",
    "    mpos = (1,4000)\n",
    "    apos = (1,4000)\n",
    "    spos = (1,4000)\n",
    "\n",
    "    for x in store:\n",
    "        \n",
    "        comp = \"\".join(re.findall(r'[^a-zA-Z0-9\\s]', x))\n",
    "        char = x[0]\n",
    "        digits = int(re.findall(r'(\\d+)', x)[0])\n",
    "        \n",
    "        if char == \"x\":\n",
    "            xpos = update_store(xpos, comp, digits)\n",
    "        elif char == \"m\":\n",
    "            mpos = update_store(mpos, comp, digits)\n",
    "        elif char == \"a\":\n",
    "            apos = update_store(apos, comp, digits)\n",
    "        elif char == \"s\":\n",
    "            spos = update_store(spos, comp, digits)\n",
    "            \n",
    "    crit = [xpos,mpos,apos,spos]\n",
    "    super_critical.append(crit)"
   ]
  },
  {
   "cell_type": "code",
   "execution_count": 18,
   "metadata": {},
   "outputs": [],
   "source": [
    "from functools import reduce\n",
    "\n",
    "parttwo = 0\n",
    "for y in super_critical:\n",
    "    val_store = []\n",
    "    for x in y:\n",
    "        val = x[1] - x[0] + 1\n",
    "        val_store.append(val)\n",
    "    value = reduce(lambda x, y: x * y, val_store)\n",
    "    parttwo += value"
   ]
  },
  {
   "cell_type": "code",
   "execution_count": 19,
   "metadata": {},
   "outputs": [
    {
     "name": "stdout",
     "output_type": "stream",
     "text": [
      "353046\n",
      "125355665599537\n"
     ]
    }
   ],
   "source": [
    "print(partone)\n",
    "print(parttwo)"
   ]
  }
 ],
 "metadata": {
  "kernelspec": {
   "display_name": "Python 3",
   "language": "python",
   "name": "python3"
  },
  "language_info": {
   "codemirror_mode": {
    "name": "ipython",
    "version": 3
   },
   "file_extension": ".py",
   "mimetype": "text/x-python",
   "name": "python",
   "nbconvert_exporter": "python",
   "pygments_lexer": "ipython3",
   "version": "3.11.9"
  }
 },
 "nbformat": 4,
 "nbformat_minor": 2
}
