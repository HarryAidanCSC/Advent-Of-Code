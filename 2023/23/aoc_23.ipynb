{
 "cells": [
  {
   "cell_type": "code",
   "execution_count": 1,
   "metadata": {},
   "outputs": [],
   "source": [
    "from collections import deque\n",
    "\n",
    "with open('test.txt', 'r') as file:\n",
    "    lines = [list(line.strip().replace(',', '').split()[0]) for line in file]\n"
   ]
  },
  {
   "cell_type": "code",
   "execution_count": 2,
   "metadata": {},
   "outputs": [],
   "source": [
    "graph = {}\n",
    "    \n",
    "for y, line in enumerate(lines):\n",
    "    for x, val in enumerate(line):\n",
    "        graph[x, y] = val\n",
    "\n",
    "\n",
    "nodes = {}\n",
    "\n",
    "maxx = len(lines[0])\n",
    "maxy = len(lines)\n",
    "\n",
    "for key in graph.keys():\n",
    "    \n",
    "    value = graph[key]\n",
    "    \n",
    "    if value  == \"#\":\n",
    "        continue\n",
    "    \n",
    "    coord_store = []\n",
    "    \n",
    "    if value == \">\":\n",
    "        coord_store.append((key[0] + 1, key[1]))\n",
    "    elif value == \"<\":\n",
    "        coord_store.append((key[0] - 1, key[1]))\n",
    "    elif value == \"^\":\n",
    "        coord_store.append((key[0], key[1] - 1))\n",
    "    elif value == \"v\":\n",
    "        coord_store.append((key[0], key[1] + 1))\n",
    "    else:\n",
    "        \n",
    "        possible_coords = [(key[0] + 1, key[1]), (key[0] - 1, key[1]), (key[0], key[1] + 1), (key[0], key[1] - 1)]\n",
    "        \n",
    "        for coords in possible_coords:\n",
    "            if 0 <= coords[0] < maxx and 0 < coords[1] < maxy:\n",
    "                char = graph[coords] \n",
    "                if char != '#':\n",
    "                    coord_store.append(coords)\n",
    "    \n",
    "    nodes[key] = coord_store"
   ]
  },
  {
   "cell_type": "code",
   "execution_count": 3,
   "metadata": {},
   "outputs": [
    {
     "name": "stdout",
     "output_type": "stream",
     "text": [
      "94\n"
     ]
    }
   ],
   "source": [
    "def bfs_longest_path(graph, start, goal):\n",
    "    queue = deque([(start, [start])])\n",
    "    longest_path = []\n",
    "    \n",
    "    while queue:\n",
    "        current_node, path = queue.popleft()\n",
    "        if current_node == goal:\n",
    "            if len(path) > len(longest_path):\n",
    "                longest_path = path\n",
    "            continue\n",
    "        \n",
    "        for neighbor in graph[current_node]:\n",
    "            if neighbor not in path: \n",
    "                queue.append((neighbor, path + [neighbor]))\n",
    "\n",
    "    return longest_path if longest_path else None\n",
    "\n",
    "\n",
    "\n",
    "longest_path = bfs_longest_path(nodes, (1,0), (maxx - 2, maxy - 1))\n",
    "print(len(longest_path) - 1)"
   ]
  }
 ],
 "metadata": {
  "kernelspec": {
   "display_name": "Python 3",
   "language": "python",
   "name": "python3"
  },
  "language_info": {
   "codemirror_mode": {
    "name": "ipython",
    "version": 3
   },
   "file_extension": ".py",
   "mimetype": "text/x-python",
   "name": "python",
   "nbconvert_exporter": "python",
   "pygments_lexer": "ipython3",
   "version": "3.11.9"
  }
 },
 "nbformat": 4,
 "nbformat_minor": 2
}
