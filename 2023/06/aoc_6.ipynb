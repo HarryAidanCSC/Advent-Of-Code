{
 "cells": [
  {
   "cell_type": "markdown",
   "metadata": {},
   "source": [
    "# Advent of Code Day 6\n",
    "\n",
    "## Part one"
   ]
  },
  {
   "cell_type": "code",
   "execution_count": 122,
   "metadata": {},
   "outputs": [],
   "source": [
    "from math import prod\n",
    "with open('input.txt', 'r') as file:\n",
    "    lines = file.readlines()\n",
    "\n",
    "for index, line in enumerate(lines):\n",
    "    line_clean = line.rstrip('\\n').split()[1:]\n",
    "    lines[index] = [int(num) for num in line_clean]\n",
    "    "
   ]
  },
  {
   "cell_type": "code",
   "execution_count": 69,
   "metadata": {},
   "outputs": [
    {
     "data": {
      "text/plain": [
       "219849"
      ]
     },
     "execution_count": 69,
     "metadata": {},
     "output_type": "execute_result"
    }
   ],
   "source": [
    "partone = []\n",
    "for index, time in enumerate(lines[0]):\n",
    "    winners = 0\n",
    "    time_range = range(0, time + 1)\n",
    "    distance = lines[1][index]\n",
    "    \n",
    "    for button_press in time_range:\n",
    "        value = (time - button_press) * button_press\n",
    "        if value > distance:\n",
    "            winners += 1\n",
    "    partone.append(winners)\n",
    "\n",
    "prod(partone)"
   ]
  },
  {
   "cell_type": "code",
   "execution_count": 123,
   "metadata": {},
   "outputs": [
    {
     "name": "stdout",
     "output_type": "stream",
     "text": [
      "29432455\n"
     ]
    }
   ],
   "source": [
    "for index, line in enumerate(lines):\n",
    "    line = int(\"\".join([str(item).strip() for item in line]))\n",
    "    lines[index] = line\n",
    "\n",
    "winners = 0\n",
    "time_range = range(0, lines[0] + 1)\n",
    "distance = lines[1]\n",
    "\n",
    "for button_press in time_range:\n",
    "    value = (int(lines[0]) - button_press) * button_press\n",
    "    if value > distance:\n",
    "        winners += 1\n",
    "print(winners)"
   ]
  }
 ],
 "metadata": {
  "kernelspec": {
   "display_name": "Python 3",
   "language": "python",
   "name": "python3"
  },
  "language_info": {
   "codemirror_mode": {
    "name": "ipython",
    "version": 3
   },
   "file_extension": ".py",
   "mimetype": "text/x-python",
   "name": "python",
   "nbconvert_exporter": "python",
   "pygments_lexer": "ipython3",
   "version": "3.11.9"
  }
 },
 "nbformat": 4,
 "nbformat_minor": 2
}
