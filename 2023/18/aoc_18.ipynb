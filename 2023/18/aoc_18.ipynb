{
 "cells": [
  {
   "cell_type": "markdown",
   "metadata": {},
   "source": [
    "# Advent of code day 18"
   ]
  },
  {
   "cell_type": "code",
   "execution_count": null,
   "metadata": {},
   "outputs": [],
   "source": [
    "with open('input.txt', 'r') as file:\n",
    "    lines = [line.strip().split() for line in file]\n",
    "\n",
    "movement = {\"R\" : [(1,0)], \"L\" : [(-1,0)], \"U\" : [(0,-1)], \"D\" : [(0,1)],\n",
    "            \"0\" : [(1,0)], \"2\" : [(-1,0)], \"1\" : [(0,-1)], \"3\" : [(0,1)]}\n",
    "\n",
    "def shoelace(coords):\n",
    "    n = len(coords)  \n",
    "    area = 0\n",
    "    \n",
    "    for i in range(n):\n",
    "        x1, y1 = coords[i]\n",
    "        x2, y2 = coords[(i + 1) % n] \n",
    "        area += x1 * y2 - y1 * x2\n",
    "        \n",
    "    area = abs(area) / 2\n",
    "    return area"
   ]
  },
  {
   "cell_type": "code",
   "execution_count": null,
   "metadata": {},
   "outputs": [],
   "source": [
    "coords = (0,0)\n",
    "pt1 = [coords]\n",
    "value_store_pt1 = 0\n",
    "for line in lines:\n",
    "    value = int(line[1])\n",
    "    direction = movement[line[0]]\n",
    "    move = [(x*value, y*value) for x,y in direction]\n",
    "    coords = (move[0][0] + coords[0], move[0][1] + coords[1])\n",
    "    pt1.append(coords)\n",
    "    value_store_pt1 += value"
   ]
  },
  {
   "cell_type": "code",
   "execution_count": null,
   "metadata": {},
   "outputs": [],
   "source": [
    "coords = (0,0)\n",
    "pt2 = [coords]\n",
    "value_store_pt2 = 0\n",
    "for line in lines:\n",
    "    value = int(line[2][2:-2],16)\n",
    "    direction = movement[line[2][-2:-1]]\n",
    "    move = [(x*value, y*value) for x,y in direction]\n",
    "    coords = (move[0][0] + coords[0], move[0][1] + coords[1])\n",
    "    pt2.append(coords)\n",
    "    value_store_pt2 += value\n"
   ]
  },
  {
   "cell_type": "code",
   "execution_count": null,
   "metadata": {},
   "outputs": [],
   "source": [
    "print(shoelace(pt1) + value_store_pt1/2 + 1)\n",
    "print(shoelace(pt2) + value_store_pt2/2 + 1)"
   ]
  }
 ],
 "metadata": {
  "kernelspec": {
   "display_name": "Python 3",
   "language": "python",
   "name": "python3"
  },
  "language_info": {
   "codemirror_mode": {
    "name": "ipython",
    "version": 3
   },
   "file_extension": ".py",
   "mimetype": "text/x-python",
   "name": "python",
   "nbconvert_exporter": "python",
   "pygments_lexer": "ipython3",
   "version": "3.11.9"
  }
 },
 "nbformat": 4,
 "nbformat_minor": 2
}
