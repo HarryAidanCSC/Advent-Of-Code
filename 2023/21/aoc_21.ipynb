{
 "cells": [
  {
   "cell_type": "code",
   "execution_count": null,
   "metadata": {},
   "outputs": [],
   "source": [
    "from collections import deque\n",
    "import numpy as np\n",
    "import math"
   ]
  },
  {
   "cell_type": "code",
   "execution_count": null,
   "metadata": {},
   "outputs": [],
   "source": [
    "with open('input.txt', 'r') as file:\n",
    "    lines = [line.strip().replace(',', '').split() for line in file]"
   ]
  },
  {
   "cell_type": "code",
   "execution_count": null,
   "metadata": {},
   "outputs": [],
   "source": [
    "# Initialise coordinate lists\n",
    "plot_coords = []\n",
    "rock_coords = []\n",
    "start_coords = []\n",
    "\n",
    "# Dictionary to map characters to coordinate lists\n",
    "store_dictionary = {'S': 'start', '#': 'rock', '.': 'plot'}\n",
    "\n",
    "def process_lines(lines):\n",
    "    for i1 in range(len(lines)):\n",
    "        for i2 in range(len(lines[i1][0])):\n",
    "            char = lines[i1][0][i2]\n",
    "            coord_list_name = store_dictionary[char] + '_coords'\n",
    "            globals()[coord_list_name].append((i2, i1))\n",
    "\n",
    "process_lines(lines)\n",
    "\n",
    "# Add the first start coordinate to plot coordinates\n",
    "plot_coords.append(start_coords[0])\n",
    "\n",
    "# Function to generate node connections\n",
    "def generate_nodes(plot_coords):\n",
    "    nodes = {}\n",
    "    for entry in plot_coords:\n",
    "        x, y = entry\n",
    "        combinations = [(x, y + 1), (x + 1, y), (x, y - 1), (x - 1, y)]\n",
    "        valid_combinations = [comb for comb in combinations if comb in plot_coords]\n",
    "        nodes[entry] = valid_combinations\n",
    "    return nodes\n",
    "\n",
    "# Generate nodes with connections\n",
    "nodes = generate_nodes(plot_coords)"
   ]
  },
  {
   "cell_type": "code",
   "execution_count": null,
   "metadata": {},
   "outputs": [],
   "source": [
    "def bfs_with_max_steps(graph, start, max_steps):\n",
    "    queue = deque([(start, 0)])\n",
    "    visited_at_level = {start: 0}\n",
    "    result = []\n",
    "\n",
    "    while queue:\n",
    "        node, steps = queue.popleft()\n",
    "\n",
    "        if steps <= max_steps:\n",
    "            result.append((node, steps))\n",
    "\n",
    "        if steps >= max_steps:\n",
    "            continue\n",
    "\n",
    "        for neighbor in graph[node]:\n",
    "            if neighbor not in visited_at_level or visited_at_level[neighbor] > steps + 1:\n",
    "                visited_at_level[neighbor] = steps + 1\n",
    "                queue.append((neighbor, steps + 1))\n",
    "\n",
    "    return result\n",
    "\n",
    "# Perform BFS with a maximum of 64 steps\n",
    "ans = bfs_with_max_steps(nodes, start_coords[0], 64)\n",
    "\n",
    "# Filter nodes where the number of steps is even\n",
    "def filter_even_steps(ans):\n",
    "    return [node for node, steps in ans if steps % 2 == 0]\n",
    "\n",
    "# Part 1 solution\n",
    "print(len(filter_even_steps(ans)))"
   ]
  },
  {
   "cell_type": "markdown",
   "metadata": {},
   "source": [
    "# Part 2"
   ]
  },
  {
   "cell_type": "code",
   "execution_count": null,
   "metadata": {},
   "outputs": [],
   "source": [
    "# Function to replace 'S' with '.' and repeat the line 5 times\n",
    "def process_lines(lines):\n",
    "    pines = []\n",
    "    for line in lines:\n",
    "        pines.append([line[0].replace('S', \".\") * 5])\n",
    "    return pines\n",
    "\n",
    "# Function to create a repeated list based on the number of repetitions\n",
    "def create_repeated_list(pines, num_repeats):\n",
    "    repeated_list = []\n",
    "    num_sublists = len(pines)\n",
    "    for _ in range(num_repeats):\n",
    "        for j in range(num_sublists):\n",
    "            repeated_list.append(pines[j])\n",
    "    return repeated_list\n",
    "\n",
    "pines = process_lines(lines)\n",
    "\n",
    "repeated_list = create_repeated_list(pines, 5)\n",
    "\n",
    "central_x = (len(repeated_list[0][0]) - 1) / 2\n",
    "central_y = (len(repeated_list) - 1) / 2"
   ]
  },
  {
   "cell_type": "code",
   "execution_count": null,
   "metadata": {},
   "outputs": [],
   "source": [
    "plot_coords_pt2 = []\n",
    "rock_coords_pt2 = []\n",
    "\n",
    "def process_repeated_list(repeated_list):\n",
    "    for row_index, row in enumerate(repeated_list):\n",
    "        for col_index, char in enumerate(row[0]):\n",
    "            coord_list_name = store_dictionary[char] + '_coords_pt2'\n",
    "            globals()[coord_list_name].append((col_index, row_index))\n",
    "\n",
    "process_repeated_list(repeated_list)"
   ]
  },
  {
   "cell_type": "code",
   "execution_count": null,
   "metadata": {},
   "outputs": [],
   "source": [
    "# Function to generate valid node connections\n",
    "def generate_nodes_pt2(plot_coords):\n",
    "    plot_coords_array = np.array(plot_coords)\n",
    "    plot_coords_set = set(map(tuple, plot_coords_array))\n",
    "    nodes = {}\n",
    "\n",
    "    for entry in plot_coords_array:\n",
    "        x, y = entry\n",
    "\n",
    "        possible_combinations = np.array([(x, y + 1), (x + 1, y), (x, y - 1), (x - 1, y)])\n",
    "\n",
    "        valid_combinations = [tuple(combination) for combination in possible_combinations if tuple(combination) in plot_coords_set]\n",
    "\n",
    "        nodes[tuple(entry)] = valid_combinations\n",
    "\n",
    "    return nodes\n",
    "\n",
    "nodes_pt2 = generate_nodes_pt2(plot_coords_pt2)"
   ]
  },
  {
   "cell_type": "code",
   "execution_count": null,
   "metadata": {},
   "outputs": [],
   "source": [
    "part_two = []\n",
    "\n",
    "# Find number of reachable plots for each size\n",
    "for p2 in range(0,3):\n",
    "    steps = 65 + (131 * p2)\n",
    "    ans = bfs_with_max_steps(nodes_pt2, (int(central_x), int(central_y)), steps)\n",
    "    \n",
    "    if p2 % 2 == 0:\n",
    "        remainder = 1\n",
    "    else:\n",
    "        remainder = 0\n",
    "    \n",
    "    temp_part_two = []\n",
    "    \n",
    "    for a in ans:\n",
    "        if a[1] % 2 == remainder:\n",
    "            temp_part_two.append(a[0])\n",
    "    \n",
    "    part_two.append((p2, len(temp_part_two)))"
   ]
  },
  {
   "cell_type": "code",
   "execution_count": null,
   "metadata": {},
   "outputs": [],
   "source": [
    "coefficients = np.polyfit(*zip(*part_two), 2)\n",
    "result = np.polyval(coefficients, 202300)\n",
    "\n",
    "# Part 2 solution\n",
    "print(math.ceil(result))"
   ]
  }
 ],
 "metadata": {
  "kernelspec": {
   "display_name": "Python 3",
   "language": "python",
   "name": "python3"
  },
  "language_info": {
   "codemirror_mode": {
    "name": "ipython",
    "version": 3
   },
   "file_extension": ".py",
   "mimetype": "text/x-python",
   "name": "python",
   "nbconvert_exporter": "python",
   "pygments_lexer": "ipython3",
   "version": "3.11.9"
  }
 },
 "nbformat": 4,
 "nbformat_minor": 2
}
