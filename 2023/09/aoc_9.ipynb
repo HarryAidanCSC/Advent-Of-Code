{
 "cells": [
  {
   "cell_type": "markdown",
   "metadata": {},
   "source": [
    "# AOC Day 9\n",
    "\n",
    "## Part one"
   ]
  },
  {
   "cell_type": "code",
   "execution_count": 249,
   "metadata": {},
   "outputs": [],
   "source": [
    "with open('input.txt', 'r') as file:\n",
    "    lines = [line.strip().split() for line in file]\n",
    "\n",
    "for line in lines:\n",
    "    for i, val in enumerate(line):\n",
    "        line[i] = int(val)"
   ]
  },
  {
   "cell_type": "code",
   "execution_count": 250,
   "metadata": {},
   "outputs": [
    {
     "name": "stdout",
     "output_type": "stream",
     "text": [
      "1995001648\n"
     ]
    }
   ],
   "source": [
    "import copy\n",
    "partone = 0\n",
    "part_one_lines = copy.deepcopy(lines)\n",
    "x_diff_store = []\n",
    "\n",
    "for line in part_one_lines:\n",
    "    x_diff = []\n",
    "    x_diff_store = [line]\n",
    "\n",
    "    while True:\n",
    "        for x in range(1, len(line)):\n",
    "            x_diff.append(line[x] - line[x-1])\n",
    "        \n",
    "        zero_test = all(item == 0 for item in x_diff)\n",
    "        \n",
    "        x_diff_store.append(x_diff)\n",
    "        \n",
    "        if zero_test:\n",
    "            break \n",
    "        else:\n",
    "            line = x_diff\n",
    "            x_diff = []\n",
    "\n",
    "    for index, diff in enumerate(reversed(x_diff_store)):\n",
    "        if index > 0 :\n",
    "            diff.append(diff[-1] + x_diff_store[len(x_diff_store) - index][-1])\n",
    "    \n",
    "    partone += x_diff_store[0][-1] \n",
    "\n",
    "print(partone)"
   ]
  },
  {
   "cell_type": "markdown",
   "metadata": {},
   "source": [
    "## Part Two"
   ]
  },
  {
   "cell_type": "code",
   "execution_count": 269,
   "metadata": {},
   "outputs": [
    {
     "name": "stdout",
     "output_type": "stream",
     "text": [
      "988\n"
     ]
    }
   ],
   "source": [
    "part_two_lines = copy.deepcopy(lines)\n",
    "parttwo = 0\n",
    "\n",
    "\n",
    "for line in part_two_lines:\n",
    "    x_diff = []\n",
    "    x_diff_store = [line]\n",
    "\n",
    "    while True:\n",
    "        for x in range(1, len(line)):\n",
    "            x_diff.append(line[x] - line[x-1])\n",
    "        \n",
    "        zero_test = all(item == 0 for item in x_diff)\n",
    "        \n",
    "        x_diff_store.append(x_diff)\n",
    "        \n",
    "        if zero_test:\n",
    "            break \n",
    "        else:\n",
    "            line = x_diff\n",
    "            x_diff = []\n",
    "\n",
    "    for index, diff in enumerate(reversed(x_diff_store)):\n",
    "        if index > 0 :\n",
    "            diff.insert(0, diff[0] - x_diff_store[len(x_diff_store) - index][0])\n",
    "    \n",
    "    parttwo += x_diff_store[0][0] \n",
    "\n",
    "print(parttwo)"
   ]
  }
 ],
 "metadata": {
  "kernelspec": {
   "display_name": "Python 3",
   "language": "python",
   "name": "python3"
  },
  "language_info": {
   "codemirror_mode": {
    "name": "ipython",
    "version": 3
   },
   "file_extension": ".py",
   "mimetype": "text/x-python",
   "name": "python",
   "nbconvert_exporter": "python",
   "pygments_lexer": "ipython3",
   "version": "3.11.9"
  }
 },
 "nbformat": 4,
 "nbformat_minor": 2
}
